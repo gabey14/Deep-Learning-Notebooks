{
  "nbformat": 4,
  "nbformat_minor": 0,
  "metadata": {
    "colab": {
      "name": "MatrixBasics.ipynb",
      "provenance": [],
      "authorship_tag": "ABX9TyOBFiHHk3h2R5/hptyw1es6",
      "include_colab_link": true
    },
    "kernelspec": {
      "name": "python3",
      "display_name": "Python 3"
    },
    "language_info": {
      "name": "python"
    }
  },
  "cells": [
    {
      "cell_type": "markdown",
      "metadata": {
        "id": "view-in-github",
        "colab_type": "text"
      },
      "source": [
        "<a href=\"https://colab.research.google.com/github/gabey14/Deep-Learning-Notebooks/blob/master/MatrixBasics.ipynb\" target=\"_parent\"><img src=\"https://colab.research.google.com/assets/colab-badge.svg\" alt=\"Open In Colab\"/></a>"
      ]
    },
    {
      "cell_type": "code",
      "execution_count": null,
      "metadata": {
        "id": "qL625pom20xV"
      },
      "outputs": [],
      "source": [
        "import numpy as np"
      ]
    },
    {
      "cell_type": "markdown",
      "source": [
        "Calculate profit/loss from revenue and expenses"
      ],
      "metadata": {
        "id": "Dk9oLeR83DhX"
      }
    },
    {
      "cell_type": "code",
      "source": [
        "revenue = np.array([[180,200,220],[24,36,40],[12,18,20]])\n",
        "expenses = np.array([[80,90,100],[10,16,20],[8,10,10]])"
      ],
      "metadata": {
        "id": "XLgMkwvM3CGW"
      },
      "execution_count": null,
      "outputs": []
    },
    {
      "cell_type": "code",
      "source": [
        "profit = revenue - expenses\n",
        "profit"
      ],
      "metadata": {
        "colab": {
          "base_uri": "https://localhost:8080/"
        },
        "id": "520YRdKf3RUT",
        "outputId": "5b22782d-c332-47db-bcc4-4e3de5bb9625"
      },
      "execution_count": null,
      "outputs": [
        {
          "output_type": "execute_result",
          "data": {
            "text/plain": [
              "array([[100, 110, 120],\n",
              "       [ 14,  20,  20],\n",
              "       [  4,   8,  10]])"
            ]
          },
          "metadata": {},
          "execution_count": 5
        }
      ]
    },
    {
      "cell_type": "markdown",
      "source": [
        "Calculate total sales from units and price per unit using matrix multiplication"
      ],
      "metadata": {
        "id": "ksaU0xEu3Znj"
      }
    },
    {
      "cell_type": "code",
      "source": [
        "price_per_unit = np.array([1000,400,1200])\n",
        "units = np.array([[30,40,50],[5,10,15],[2,5,7]])  "
      ],
      "metadata": {
        "id": "ZS5rv7FO3Vsi"
      },
      "execution_count": null,
      "outputs": []
    },
    {
      "cell_type": "code",
      "source": [
        "price_per_unit * units"
      ],
      "metadata": {
        "colab": {
          "base_uri": "https://localhost:8080/"
        },
        "id": "xDFmEw8U3UNb",
        "outputId": "20e053a0-fe28-4ecb-cc0b-7094488404de"
      },
      "execution_count": null,
      "outputs": [
        {
          "output_type": "execute_result",
          "data": {
            "text/plain": [
              "array([[30000, 16000, 60000],\n",
              "       [ 5000,  4000, 18000],\n",
              "       [ 2000,  2000,  8400]])"
            ]
          },
          "metadata": {},
          "execution_count": 7
        }
      ]
    },
    {
      "cell_type": "markdown",
      "source": [
        "In above case numpy is using broadcasting so it expands price_per_unit array from 1 row, 3 columns to 3 row and 3 columns. Correct way to do matrix multiplication is to use dot product as shown below"
      ],
      "metadata": {
        "id": "aqg2VWQ-3x8F"
      }
    },
    {
      "cell_type": "code",
      "source": [
        "np.dot(price_per_unit,units)"
      ],
      "metadata": {
        "colab": {
          "base_uri": "https://localhost:8080/"
        },
        "id": "7n8gAEaV3q6e",
        "outputId": "7d561f9c-47fa-430b-b3e4-92045f3ce4cb"
      },
      "execution_count": null,
      "outputs": [
        {
          "output_type": "execute_result",
          "data": {
            "text/plain": [
              "array([34400, 50000, 64400])"
            ]
          },
          "metadata": {},
          "execution_count": 8
        }
      ]
    },
    {
      "cell_type": "markdown",
      "source": [
        "# Exercise 1"
      ],
      "metadata": {
        "id": "qaBLQPc034Az"
      }
    },
    {
      "cell_type": "code",
      "source": [
        "revenue_usd = np.array([[200,220,250],[68,79,105],[110,140,180],[80,85,90]])"
      ],
      "metadata": {
        "id": "7asZmZNi32yU"
      },
      "execution_count": null,
      "outputs": []
    },
    {
      "cell_type": "code",
      "source": [
        "# np.dot(revenue,75)\n",
        "revenue_inr = revenue_usd * 75\n",
        "revenue_inr"
      ],
      "metadata": {
        "colab": {
          "base_uri": "https://localhost:8080/"
        },
        "id": "NbKrWGbu4IGK",
        "outputId": "b05ecb18-90bf-401e-fd1f-56a25c7860fa"
      },
      "execution_count": null,
      "outputs": [
        {
          "output_type": "execute_result",
          "data": {
            "text/plain": [
              "array([[15000, 16500, 18750],\n",
              "       [ 5100,  5925,  7875],\n",
              "       [ 8250, 10500, 13500],\n",
              "       [ 6000,  6375,  6750]])"
            ]
          },
          "metadata": {},
          "execution_count": 17
        }
      ]
    },
    {
      "cell_type": "code",
      "source": [
        "price_per_unit = np.array([20,30,15])\n",
        "price_per_unit"
      ],
      "metadata": {
        "colab": {
          "base_uri": "https://localhost:8080/"
        },
        "id": "z9uMfzY14pDt",
        "outputId": "31e5de2c-cfe3-4f2e-af47-b3ef89a0fe01"
      },
      "execution_count": null,
      "outputs": [
        {
          "output_type": "execute_result",
          "data": {
            "text/plain": [
              "array([20, 30, 15])"
            ]
          },
          "metadata": {},
          "execution_count": 19
        }
      ]
    },
    {
      "cell_type": "code",
      "source": [
        "monthly_units_sold = np.array([[50,60,25],[10,13,5],[40,70,52]])\n",
        "monthly_units_sold"
      ],
      "metadata": {
        "colab": {
          "base_uri": "https://localhost:8080/"
        },
        "id": "D5S1PfUl4z52",
        "outputId": "f7ba0c02-17ac-4132-dc0c-37fca55416cf"
      },
      "execution_count": null,
      "outputs": [
        {
          "output_type": "execute_result",
          "data": {
            "text/plain": [
              "array([[50, 60, 25],\n",
              "       [10, 13,  5],\n",
              "       [40, 70, 52]])"
            ]
          },
          "metadata": {},
          "execution_count": 21
        }
      ]
    },
    {
      "cell_type": "code",
      "source": [
        "np.dot(price_per_unit,monthly_units_sold)"
      ],
      "metadata": {
        "colab": {
          "base_uri": "https://localhost:8080/"
        },
        "id": "XbEHFYNO5HBq",
        "outputId": "7a1cfee1-01a6-411c-aec4-c2566f6e084f"
      },
      "execution_count": null,
      "outputs": [
        {
          "output_type": "execute_result",
          "data": {
            "text/plain": [
              "array([1900, 2640, 1430])"
            ]
          },
          "metadata": {},
          "execution_count": 23
        }
      ]
    }
  ]
}